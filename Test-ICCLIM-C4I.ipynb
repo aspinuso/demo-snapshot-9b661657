{
 "cells": [
  {
   "cell_type": "markdown",
   "metadata": {},
   "source": [
    "## ICCLIM C4I Demo\n",
    "\n",
    "\n",
    "Example notebook that runs ICCLIM, which is pre-installed in the notebook.\n",
    "\n",
    "The example calculates the number of summer days (SU indicator) for the dataset chosen by the user on C4I\n",
    "\n",
    "\n",
    "### Preparation of the needed modules"
   ]
  },
  {
   "cell_type": "code",
   "execution_count": 4,
   "metadata": {
    "jupyter": {
     "source_hidden": true
    }
   },
   "outputs": [
    {
     "name": "stdout",
     "output_type": "stream",
     "text": [
      "python:  3.6.11 | packaged by conda-forge | (default, Aug  5 2020, 20:09:42) \n",
      "[GCC 7.5.0]\n",
      "numpy:  1.19.4\n",
      "netCDF4:  1.5.4\n",
      "matplotlib:  3.3.3\n"
     ]
    }
   ],
   "source": [
    "from icclim import icclim\n",
    "import numpy as np\n",
    "import netCDF4\n",
    "import matplotlib.pyplot as plt\n",
    "import matplotlib\n",
    "import sys\n",
    "import glob\n",
    "import os\n",
    "import datetime\n",
    "import cftime\n",
    "\n",
    "print(\"python: \",sys.version)\n",
    "print(\"numpy: \", np.__version__)\n",
    "print(\"netCDF4: \", netCDF4.__version__)\n",
    "print(\"matplotlib: \", matplotlib.__version__)"
   ]
  },
  {
   "cell_type": "markdown",
   "metadata": {},
   "source": [
    "### Specification of the parameters and period of interest"
   ]
  },
  {
   "cell_type": "code",
   "execution_count": 5,
   "metadata": {},
   "outputs": [
    {
     "name": "stderr",
     "output_type": "stream",
     "text": [
      "2020-11-12 08:48:53,454    ********************************************************************************************\n",
      "2020-11-12 08:48:53,455    *                                                                                          *\n",
      "2020-11-12 08:48:53,457    *          icclim                                                            V4.2.14       *\n",
      "2020-11-12 08:48:53,458    *                                                                                          *\n",
      "2020-11-12 08:48:53,458    *                                                                                          *\n",
      "2020-11-12 08:48:53,459    *          Thu Nov 12 08:48:53 2020 GMT                                                    *\n",
      "2020-11-12 08:48:53,460    *                                                                                          *\n",
      "2020-11-12 08:48:53,461    *          BEGIN EXECUTION                                                                 *\n",
      "2020-11-12 08:48:53,461    *                                                                                          *\n",
      "2020-11-12 08:48:53,462    ********************************************************************************************\n",
      "2020-11-12 08:48:56,456 Loading data: chunk 1/8 ...\n",
      "2020-11-12 08:49:09,748 Loading data: chunk 2/8 ...\n",
      "2020-11-12 08:49:19,005 Loading data: chunk 3/8 ...\n",
      "2020-11-12 08:49:28,186 Loading data: chunk 4/8 ...\n",
      "2020-11-12 08:49:36,714 Loading data: chunk 5/8 ...\n",
      "2020-11-12 08:49:45,534 Loading data: chunk 6/8 ...\n",
      "2020-11-12 08:49:54,349 Loading data: chunk 7/8 ...\n",
      "2020-11-12 08:50:03,271 Loading data: chunk 8/8 ...\n",
      "2020-11-12 08:50:11,798    ********************************************************************************************\n",
      "2020-11-12 08:50:11,799    *                                                                                          *\n",
      "2020-11-12 08:50:11,800    *          icclim                                                            V4.2.14       *\n",
      "2020-11-12 08:50:11,802    *                                                                                          *\n",
      "2020-11-12 08:50:11,802    *                                                                                          *\n",
      "2020-11-12 08:50:11,803    *          Thu Nov 12 08:50:11 2020 GMT                                                    *\n",
      "2020-11-12 08:50:11,804    *                                                                                          *\n",
      "2020-11-12 08:50:11,804    *          END EXECUTION                                                                   *\n",
      "2020-11-12 08:50:11,805    *                                                                                          *\n",
      "2020-11-12 08:50:11,805    *          CP SECS = 75.133                                                                *\n",
      "2020-11-12 08:50:11,807    *                                                                                          *\n",
      "2020-11-12 08:50:11,807    ********************************************************************************************\n"
     ]
    }
   ],
   "source": [
    "# studied period\n",
    "dt1 = datetime.datetime(2015,1,1)\n",
    "dt2 = datetime.datetime(2019,12,31)\n",
    "\n",
    "out_f = 'su_icclim.nc'\n",
    "filenames = glob.glob('./data/latest/tasmax_day*.nc')\n",
    "\n",
    "icclim.indice(indice_name='SU', in_files=filenames, var_name='tasmax', slice_mode='JJA', time_range=[dt1, dt2], transfer_limit_Mbytes=200, out_file=out_f)\n",
    "\n",
    "matplotlib.use('agg')\n",
    "\n",
    "nc = netCDF4.Dataset(out_f)\n",
    "\n",
    "time = nc.variables['time']\n",
    "var = nc.variables['SU']\n",
    "\n",
    "time = cftime.num2date(time[:], time.units, time.calendar)\n",
    "year_list = np.array([t.year for t in time])"
   ]
  },
  {
   "cell_type": "markdown",
   "metadata": {},
   "source": [
    "### Calculate spatial average"
   ]
  },
  {
   "cell_type": "code",
   "execution_count": null,
   "metadata": {},
   "outputs": [],
   "source": [
    "var = np.reshape(var, (var.shape[0], -1))\n",
    "result = np.mean(var, axis=1)\n",
    "\n",
    "print(result)"
   ]
  },
  {
   "cell_type": "markdown",
   "metadata": {},
   "source": [
    "### Visualise the results"
   ]
  },
  {
   "cell_type": "code",
   "execution_count": null,
   "metadata": {},
   "outputs": [],
   "source": [
    "\n",
    "plt.figure()\n",
    "\n",
    "plt.plot(year_list, result, label='SU')\n",
    "plt.legend()\n",
    "plt.xlabel('Year')\n",
    "plt.ylabel('Number')\n",
    "plt.grid()\n",
    "\n",
    "name_fig = \"su_icclim.png\"\n",
    "plt.savefig(\"./\"+name_fig)\n",
    "from IPython.display import Image\n",
    "Image(filename=\"./su_icclim.png\") "
   ]
  },
  {
   "cell_type": "markdown",
   "metadata": {},
   "source": []
  }
 ],
 "metadata": {
  "kernelspec": {
   "display_name": "Python 3",
   "language": "python",
   "name": "python3"
  },
  "language_info": {
   "codemirror_mode": {
    "name": "ipython",
    "version": 3
   },
   "file_extension": ".py",
   "mimetype": "text/x-python",
   "name": "python",
   "nbconvert_exporter": "python",
   "pygments_lexer": "ipython3",
   "version": "3.6.11"
  }
 },
 "nbformat": 4,
 "nbformat_minor": 4
}
